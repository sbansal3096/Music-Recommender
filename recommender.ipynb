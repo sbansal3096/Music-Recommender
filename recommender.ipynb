{
 "cells": [
  {
   "cell_type": "code",
   "execution_count": 13,
   "metadata": {
    "collapsed": true
   },
   "outputs": [],
   "source": [
    "import os\n",
    "import glob\n",
    "import numpy as np\n",
    "import pickle\n",
    "import pandas as pd\n",
    "from sklearn.metrics.pairwise import cosine_similarity\n"
   ]
  },
  {
   "cell_type": "code",
   "execution_count": 14,
   "metadata": {
    "collapsed": true
   },
   "outputs": [],
   "source": [
    "np_arrays = np.load('finaldata.npy')"
   ]
  },
  {
   "cell_type": "code",
   "execution_count": 15,
   "metadata": {
    "collapsed": true
   },
   "outputs": [],
   "source": [
    "with open('finaldata.pkl', 'rb') as handle:\n",
    "    song_ids = pickle.load(handle)"
   ]
  },
  {
   "cell_type": "code",
   "execution_count": 16,
   "metadata": {},
   "outputs": [
    {
     "data": {
      "text/plain": [
       "(200, 128)"
      ]
     },
     "execution_count": 16,
     "metadata": {},
     "output_type": "execute_result"
    }
   ],
   "source": [
    "\n",
    "np_arrays.shape"
   ]
  },
  {
   "cell_type": "code",
   "execution_count": 17,
   "metadata": {},
   "outputs": [
    {
     "data": {
      "text/plain": [
       "200"
      ]
     },
     "execution_count": 17,
     "metadata": {},
     "output_type": "execute_result"
    }
   ],
   "source": [
    "len(song_ids)"
   ]
  },
  {
   "cell_type": "code",
   "execution_count": 18,
   "metadata": {
    "collapsed": true
   },
   "outputs": [],
   "source": [
    "cs = cosine_similarity(np_arrays)"
   ]
  },
  {
   "cell_type": "code",
   "execution_count": 19,
   "metadata": {
    "collapsed": true
   },
   "outputs": [],
   "source": [
    "dists = pd.DataFrame(cs, columns=song_ids)\n",
    "dists.index = dists.columns"
   ]
  },
  {
   "cell_type": "code",
   "execution_count": 20,
   "metadata": {},
   "outputs": [
    {
     "data": {
      "text/html": [
       "<div>\n",
       "<style>\n",
       "    .dataframe thead tr:only-child th {\n",
       "        text-align: right;\n",
       "    }\n",
       "\n",
       "    .dataframe thead th {\n",
       "        text-align: left;\n",
       "    }\n",
       "\n",
       "    .dataframe tbody tr th {\n",
       "        vertical-align: top;\n",
       "    }\n",
       "</style>\n",
       "<table border=\"1\" class=\"dataframe\">\n",
       "  <thead>\n",
       "    <tr style=\"text-align: right;\">\n",
       "      <th></th>\n",
       "      <th>139</th>\n",
       "      <th>1</th>\n",
       "      <th>27</th>\n",
       "      <th>87</th>\n",
       "      <th>41</th>\n",
       "      <th>114</th>\n",
       "      <th>199</th>\n",
       "      <th>71</th>\n",
       "      <th>18</th>\n",
       "      <th>5</th>\n",
       "      <th>...</th>\n",
       "      <th>98</th>\n",
       "      <th>26</th>\n",
       "      <th>31</th>\n",
       "      <th>137</th>\n",
       "      <th>86</th>\n",
       "      <th>154</th>\n",
       "      <th>17</th>\n",
       "      <th>96</th>\n",
       "      <th>113</th>\n",
       "      <th>104</th>\n",
       "    </tr>\n",
       "  </thead>\n",
       "  <tbody>\n",
       "    <tr>\n",
       "      <th>139</th>\n",
       "      <td>1.000000</td>\n",
       "      <td>-0.381739</td>\n",
       "      <td>-0.277747</td>\n",
       "      <td>0.310294</td>\n",
       "      <td>-0.404522</td>\n",
       "      <td>0.762250</td>\n",
       "      <td>0.135582</td>\n",
       "      <td>-0.382541</td>\n",
       "      <td>-0.297082</td>\n",
       "      <td>-0.371257</td>\n",
       "      <td>...</td>\n",
       "      <td>-0.213920</td>\n",
       "      <td>-0.183404</td>\n",
       "      <td>-0.267283</td>\n",
       "      <td>0.298344</td>\n",
       "      <td>-0.286423</td>\n",
       "      <td>0.106740</td>\n",
       "      <td>-0.401558</td>\n",
       "      <td>-0.412665</td>\n",
       "      <td>0.418376</td>\n",
       "      <td>0.839849</td>\n",
       "    </tr>\n",
       "    <tr>\n",
       "      <th>1</th>\n",
       "      <td>-0.381739</td>\n",
       "      <td>1.000000</td>\n",
       "      <td>0.989882</td>\n",
       "      <td>0.109098</td>\n",
       "      <td>0.997390</td>\n",
       "      <td>-0.737229</td>\n",
       "      <td>0.420500</td>\n",
       "      <td>0.982921</td>\n",
       "      <td>0.985184</td>\n",
       "      <td>0.997096</td>\n",
       "      <td>...</td>\n",
       "      <td>0.929976</td>\n",
       "      <td>0.958340</td>\n",
       "      <td>0.972932</td>\n",
       "      <td>0.067228</td>\n",
       "      <td>0.984946</td>\n",
       "      <td>0.171038</td>\n",
       "      <td>0.991060</td>\n",
       "      <td>0.992460</td>\n",
       "      <td>0.304659</td>\n",
       "      <td>-0.561757</td>\n",
       "    </tr>\n",
       "    <tr>\n",
       "      <th>27</th>\n",
       "      <td>-0.277747</td>\n",
       "      <td>0.989882</td>\n",
       "      <td>1.000000</td>\n",
       "      <td>0.136365</td>\n",
       "      <td>0.986964</td>\n",
       "      <td>-0.674433</td>\n",
       "      <td>0.419796</td>\n",
       "      <td>0.972601</td>\n",
       "      <td>0.989025</td>\n",
       "      <td>0.990766</td>\n",
       "      <td>...</td>\n",
       "      <td>0.945001</td>\n",
       "      <td>0.977120</td>\n",
       "      <td>0.984683</td>\n",
       "      <td>0.079360</td>\n",
       "      <td>0.988355</td>\n",
       "      <td>0.178916</td>\n",
       "      <td>0.982144</td>\n",
       "      <td>0.981149</td>\n",
       "      <td>0.386341</td>\n",
       "      <td>-0.465902</td>\n",
       "    </tr>\n",
       "    <tr>\n",
       "      <th>87</th>\n",
       "      <td>0.310294</td>\n",
       "      <td>0.109098</td>\n",
       "      <td>0.136365</td>\n",
       "      <td>1.000000</td>\n",
       "      <td>0.092410</td>\n",
       "      <td>0.283076</td>\n",
       "      <td>0.676691</td>\n",
       "      <td>0.057396</td>\n",
       "      <td>0.140619</td>\n",
       "      <td>0.110343</td>\n",
       "      <td>...</td>\n",
       "      <td>0.076589</td>\n",
       "      <td>0.252813</td>\n",
       "      <td>0.170622</td>\n",
       "      <td>0.105312</td>\n",
       "      <td>0.196458</td>\n",
       "      <td>0.023945</td>\n",
       "      <td>0.040519</td>\n",
       "      <td>0.051423</td>\n",
       "      <td>0.162561</td>\n",
       "      <td>0.202512</td>\n",
       "    </tr>\n",
       "    <tr>\n",
       "      <th>41</th>\n",
       "      <td>-0.404522</td>\n",
       "      <td>0.997390</td>\n",
       "      <td>0.986964</td>\n",
       "      <td>0.092410</td>\n",
       "      <td>1.000000</td>\n",
       "      <td>-0.736155</td>\n",
       "      <td>0.420038</td>\n",
       "      <td>0.988172</td>\n",
       "      <td>0.978853</td>\n",
       "      <td>0.997724</td>\n",
       "      <td>...</td>\n",
       "      <td>0.923692</td>\n",
       "      <td>0.951373</td>\n",
       "      <td>0.973328</td>\n",
       "      <td>0.085379</td>\n",
       "      <td>0.985959</td>\n",
       "      <td>0.198138</td>\n",
       "      <td>0.995166</td>\n",
       "      <td>0.995566</td>\n",
       "      <td>0.327300</td>\n",
       "      <td>-0.566733</td>\n",
       "    </tr>\n",
       "  </tbody>\n",
       "</table>\n",
       "<p>5 rows × 200 columns</p>\n",
       "</div>"
      ],
      "text/plain": [
       "          139         1        27        87        41       114       199  \\\n",
       "139  1.000000 -0.381739 -0.277747  0.310294 -0.404522  0.762250  0.135582   \n",
       "1   -0.381739  1.000000  0.989882  0.109098  0.997390 -0.737229  0.420500   \n",
       "27  -0.277747  0.989882  1.000000  0.136365  0.986964 -0.674433  0.419796   \n",
       "87   0.310294  0.109098  0.136365  1.000000  0.092410  0.283076  0.676691   \n",
       "41  -0.404522  0.997390  0.986964  0.092410  1.000000 -0.736155  0.420038   \n",
       "\n",
       "           71        18         5    ...           98        26        31  \\\n",
       "139 -0.382541 -0.297082 -0.371257    ...    -0.213920 -0.183404 -0.267283   \n",
       "1    0.982921  0.985184  0.997096    ...     0.929976  0.958340  0.972932   \n",
       "27   0.972601  0.989025  0.990766    ...     0.945001  0.977120  0.984683   \n",
       "87   0.057396  0.140619  0.110343    ...     0.076589  0.252813  0.170622   \n",
       "41   0.988172  0.978853  0.997724    ...     0.923692  0.951373  0.973328   \n",
       "\n",
       "          137        86       154        17        96       113       104  \n",
       "139  0.298344 -0.286423  0.106740 -0.401558 -0.412665  0.418376  0.839849  \n",
       "1    0.067228  0.984946  0.171038  0.991060  0.992460  0.304659 -0.561757  \n",
       "27   0.079360  0.988355  0.178916  0.982144  0.981149  0.386341 -0.465902  \n",
       "87   0.105312  0.196458  0.023945  0.040519  0.051423  0.162561  0.202512  \n",
       "41   0.085379  0.985959  0.198138  0.995166  0.995566  0.327300 -0.566733  \n",
       "\n",
       "[5 rows x 200 columns]"
      ]
     },
     "execution_count": 20,
     "metadata": {},
     "output_type": "execute_result"
    }
   ],
   "source": [
    "dists.head()"
   ]
  },
  {
   "cell_type": "code",
   "execution_count": 21,
   "metadata": {
    "collapsed": true
   },
   "outputs": [],
   "source": [
    "import pickle\n",
    "with open('romance_list', 'rb') as f:\n",
    "    romance = pickle.load(f)\n"
   ]
  },
  {
   "cell_type": "code",
   "execution_count": 22,
   "metadata": {
    "collapsed": true
   },
   "outputs": [],
   "source": [
    "romance=romance[:100]"
   ]
  },
  {
   "cell_type": "code",
   "execution_count": 23,
   "metadata": {
    "collapsed": true
   },
   "outputs": [],
   "source": [
    "import pickle\n",
    "with open('party_list', 'rb') as f:\n",
    "    party = pickle.load(f)\n"
   ]
  },
  {
   "cell_type": "code",
   "execution_count": 24,
   "metadata": {
    "collapsed": true
   },
   "outputs": [],
   "source": [
    "party=party[:100]"
   ]
  },
  {
   "cell_type": "code",
   "execution_count": 25,
   "metadata": {
    "collapsed": true
   },
   "outputs": [],
   "source": [
    "data=romance+party"
   ]
  },
  {
   "cell_type": "code",
   "execution_count": 26,
   "metadata": {},
   "outputs": [
    {
     "data": {
      "text/plain": [
       "['Aainda',\n",
       " 'Aaj_Jane_Ki_Zid_Na_Karo',\n",
       " 'Aaoge_Jab_Tum',\n",
       " 'Aayat',\n",
       " 'Agar_Tu_Hota',\n",
       " 'Agar_Tum_Saath_Ho',\n",
       " 'Aise_Na_Dekho',\n",
       " 'Ajj_Din_Chadheya',\n",
       " 'Alaahda',\n",
       " 'Alizeh',\n",
       " 'Ambarsariya',\n",
       " 'Awari',\n",
       " 'Baarish_-_Yaariyan',\n",
       " 'Bahara',\n",
       " 'Banjaara',\n",
       " 'Barfani_-_Female',\n",
       " 'Bas_Ek_Baar',\n",
       " 'Bawara_Mann',\n",
       " 'Behka',\n",
       " 'Bekhudi',\n",
       " 'Bhula_Dena',\n",
       " 'Bichdann',\n",
       " 'Bol_Do_Na_Zara',\n",
       " 'Bolna',\n",
       " 'Chaandaniya',\n",
       " 'Chand_Aasmano_Se_Laapata',\n",
       " 'Daayre',\n",
       " 'Dard_Dilo_Ke',\n",
       " 'Dekha_Hazaro_Dafaa',\n",
       " 'Dil_Aaj_Kal',\n",
       " 'Dil_Ibaadat',\n",
       " 'Dilko_Tumse_Pyar_Hua',\n",
       " 'Dooriyan',\n",
       " 'Galliyan',\n",
       " 'Hai_Dil_Ye_Mera',\n",
       " 'Hamari_Adhuri_Kahani',\n",
       " 'Heer',\n",
       " 'Hosanna',\n",
       " 'Hua_Hain_Aaj_Pehli_Baar',\n",
       " 'Humdard',\n",
       " 'I_Love_You',\n",
       " 'Ishq_Bulaava',\n",
       " 'Ishq_Hua',\n",
       " 'Ishq_Wala_Love',\n",
       " 'Jag_Ghoomeya',\n",
       " 'Janam_Janam',\n",
       " 'Jeena_Jeena',\n",
       " 'Jiya_Lage_Na',\n",
       " 'Jiyein_Kyon',\n",
       " 'Joganiyan',\n",
       " 'Judaai',\n",
       " 'Kabhi_Ruhani_Kabhi_Rumani',\n",
       " 'Kabira',\n",
       " 'Kahin_To',\n",
       " 'Kaise_Bataaoon',\n",
       " 'Kaun_Tujhe',\n",
       " 'Khabar_Nahi',\n",
       " 'Khamoshiyan',\n",
       " 'Khul_Kabhi_Toh',\n",
       " 'Kuch_To_Hua_Hai',\n",
       " 'Kya_Mujhe_Pyaar_Hai',\n",
       " 'Locha-E-Ulfat',\n",
       " 'Lucky_Lips',\n",
       " 'Main_Agar',\n",
       " 'Main_Kya_Karoon',\n",
       " 'Main_Nai_Jaana_Pardes',\n",
       " 'Main_Teri_Ho_Gayi',\n",
       " 'Mast_Magan',\n",
       " 'Mat_Ja_Re',\n",
       " 'Meet',\n",
       " 'Mera_Yaar_Mila_De',\n",
       " 'Milne_Hai_Mujhse_Aayi',\n",
       " 'Mitwa',\n",
       " 'Mujh_Mein_Tu',\n",
       " 'My_Dil_Goes_Mmmm',\n",
       " 'O_Khuda',\n",
       " 'O_Meri_Jaan',\n",
       " 'O_Rangrez',\n",
       " 'O_Saiyyan',\n",
       " 'Offo',\n",
       " 'Pee_Loon',\n",
       " 'Pehli_Baar',\n",
       " 'Pehli_Baar_Mohabbat',\n",
       " 'Piya_Aaye_Na',\n",
       " 'Piya_Milenge',\n",
       " 'Pyaar_Ke_Pal',\n",
       " 'Pyaar_Maanga_Hai',\n",
       " 'Rabba',\n",
       " 'Saaiyaan',\n",
       " 'Saajna',\n",
       " 'Saathi_Rey',\n",
       " 'Saiyaara',\n",
       " 'Sanam_Re',\n",
       " 'Sanam_Teri_Kasam',\n",
       " 'Sawan_Aaya_Hai',\n",
       " 'Saware',\n",
       " 'Subhanallah',\n",
       " 'Sunn_Raha_Hai',\n",
       " 'Suno-_Na_Sangemarmar',\n",
       " 'Surili_Akhiyon_Wale',\n",
       " '2_Many_Girls',\n",
       " '440_Volt',\n",
       " 'Aa_Ante_Amalapuram',\n",
       " 'Aa_To_Sahii',\n",
       " 'Aahun_Aahun',\n",
       " 'Aashiq_Surrender_Hua',\n",
       " 'Abhi_Toh_Party_Shuru_Hui_Hai',\n",
       " 'Ainvayi_Ainvayi',\n",
       " 'Akkad_Bakkad',\n",
       " 'Anarkali_Disco_Chali',\n",
       " 'Angreji_Beat',\n",
       " 'Baat_Ban_Jaye',\n",
       " 'Baby_Ko_Bass_Pasand_Hai',\n",
       " 'Bachna_Ae_Haseeno',\n",
       " 'Bandook',\n",
       " 'Bandook_Meri_Laila',\n",
       " 'Bebo',\n",
       " 'Blue_Eyes',\n",
       " 'Bolo_Har_Har_Har',\n",
       " 'Chalti_Hai_Kya_9_Se_12',\n",
       " 'Cham_Cham',\n",
       " 'Character_Dheela',\n",
       " 'Chaska',\n",
       " 'Cheez_Badi',\n",
       " 'Chingam_Chabake',\n",
       " 'Chinta_Ta_Ta_Chita_Chita',\n",
       " 'Cutiepie',\n",
       " 'Daddy_Mummy',\n",
       " 'Dekhega_Raja_Trailor',\n",
       " 'Desi_Hip_Hop',\n",
       " 'Dheere_Dheere',\n",
       " 'Dhinka_Chika-Remix',\n",
       " 'Dil_Cheez_Tujhe_Dedi',\n",
       " 'Dil_Chori',\n",
       " 'Do_Peg_Maar',\n",
       " 'Dope_Shope',\n",
       " 'Gabru',\n",
       " 'Gandi_Baat',\n",
       " 'Getup_Jawani',\n",
       " 'Ghungta',\n",
       " 'Goliyan',\n",
       " 'Hai_Ye_Maya_-_Remix',\n",
       " 'Halkat_Jawani_Remix',\n",
       " 'Haseeno_Ka_Deewana',\n",
       " 'Hawa_Hawa',\n",
       " 'Hik_Vich_jaan',\n",
       " 'Hor_Nach',\n",
       " 'Hunter',\n",
       " 'Ishq_Da_Sutta',\n",
       " 'Issey_Kehte_Hain_Hip_Hop',\n",
       " 'Jaaneman_Aah',\n",
       " 'Jabra_Fan_-_Hindi_Version',\n",
       " 'Kamli',\n",
       " 'Kheech_Meri_Photo',\n",
       " 'Kudiya_Shehar_Di',\n",
       " 'Lift_Teri_Bandh_Hai',\n",
       " 'Love_Dose',\n",
       " 'Love_Mera_Hit_Hit-house_Mix',\n",
       " 'Lover_Boy',\n",
       " 'Make_Some_Noise_For_The_Desi_Boyz',\n",
       " 'Mast_Kalander',\n",
       " 'Mechanical_Sundariye',\n",
       " 'Mehbooba',\n",
       " 'Mera_Nachan_Nu',\n",
       " 'Mere_Baap_Ke_Beti',\n",
       " 'Most_Wanted_Munda',\n",
       " 'Move_Your_Body',\n",
       " 'Move_Your_Lakk',\n",
       " 'Nachange_Saari_Raat',\n",
       " 'Nashe_Si_Chadh_Gayi',\n",
       " 'Oye_Oye',\n",
       " 'Paani_Paani',\n",
       " 'Pallo_Latke',\n",
       " 'Party_All_Night',\n",
       " 'Peh_Gaya_Khalara',\n",
       " 'Piya_More',\n",
       " 'Pungi_-_Remix',\n",
       " 'Pyar_Ki',\n",
       " 'Raat_Jashan_Di',\n",
       " 'Radha',\n",
       " 'Rani_Tu_Mein_Raja_-_Remix',\n",
       " 'Rock_Tha_Party',\n",
       " 'Saiyan_More_Saiyan',\n",
       " 'Saturday_Saturday',\n",
       " 'Sau_Tarah_Ke',\n",
       " 'Selfie_Le_Le_Re',\n",
       " 'Sexy_Baliye',\n",
       " 'Slow_Motion_Angreza',\n",
       " 'Sooraj_Dooba_Hain_Yaaron',\n",
       " 'Subha_Hone_Na_De',\n",
       " 'Sunny_Sunny',\n",
       " 'Suno_Ganpati_Bappa_Morya',\n",
       " 'Taang_Uthake',\n",
       " 'Te_Amo-Remix',\n",
       " 'Teraa_Surroor_Mashup',\n",
       " 'Teri_Yaad',\n",
       " 'The_Breakup_Song',\n",
       " 'The_Goggle_Song',\n",
       " 'The_Humma_Song',\n",
       " 'Tipsy_Hogai']"
      ]
     },
     "execution_count": 26,
     "metadata": {},
     "output_type": "execute_result"
    }
   ],
   "source": [
    "data"
   ]
  },
  {
   "cell_type": "code",
   "execution_count": 27,
   "metadata": {},
   "outputs": [
    {
     "data": {
      "text/plain": [
       "'Aainda'"
      ]
     },
     "execution_count": 27,
     "metadata": {},
     "output_type": "execute_result"
    }
   ],
   "source": [
    "data[0]"
   ]
  },
  {
   "cell_type": "code",
   "execution_count": 28,
   "metadata": {},
   "outputs": [
    {
     "data": {
      "text/plain": [
       "'2_Many_Girls'"
      ]
     },
     "execution_count": 28,
     "metadata": {},
     "output_type": "execute_result"
    }
   ],
   "source": [
    "data[100]"
   ]
  },
  {
   "cell_type": "code",
   "execution_count": 29,
   "metadata": {},
   "outputs": [
    {
     "data": {
      "text/plain": [
       "'Aa_Ante_Amalapuram'"
      ]
     },
     "execution_count": 29,
     "metadata": {},
     "output_type": "execute_result"
    }
   ],
   "source": [
    "data[102]"
   ]
  },
  {
   "cell_type": "code",
   "execution_count": 30,
   "metadata": {},
   "outputs": [
    {
     "name": "stdout",
     "output_type": "stream",
     "text": [
      "Aaoge_Jab_Tum\n"
     ]
    }
   ],
   "source": [
    "selected_song_id = '2'\n",
    "print(data[2])"
   ]
  },
  {
   "cell_type": "code",
   "execution_count": 31,
   "metadata": {
    "collapsed": true
   },
   "outputs": [],
   "source": [
    "recommendations = dists[str(selected_song_id)].sort_values(ascending=False).reset_index()"
   ]
  },
  {
   "cell_type": "code",
   "execution_count": 32,
   "metadata": {},
   "outputs": [
    {
     "data": {
      "text/html": [
       "<div>\n",
       "<style>\n",
       "    .dataframe thead tr:only-child th {\n",
       "        text-align: right;\n",
       "    }\n",
       "\n",
       "    .dataframe thead th {\n",
       "        text-align: left;\n",
       "    }\n",
       "\n",
       "    .dataframe tbody tr th {\n",
       "        vertical-align: top;\n",
       "    }\n",
       "</style>\n",
       "<table border=\"1\" class=\"dataframe\">\n",
       "  <thead>\n",
       "    <tr style=\"text-align: right;\">\n",
       "      <th></th>\n",
       "      <th>index</th>\n",
       "      <th>2</th>\n",
       "    </tr>\n",
       "  </thead>\n",
       "  <tbody>\n",
       "    <tr>\n",
       "      <th>0</th>\n",
       "      <td>2</td>\n",
       "      <td>1.000000</td>\n",
       "    </tr>\n",
       "    <tr>\n",
       "      <th>1</th>\n",
       "      <td>44</td>\n",
       "      <td>0.998962</td>\n",
       "    </tr>\n",
       "    <tr>\n",
       "      <th>2</th>\n",
       "      <td>52</td>\n",
       "      <td>0.998867</td>\n",
       "    </tr>\n",
       "    <tr>\n",
       "      <th>3</th>\n",
       "      <td>41</td>\n",
       "      <td>0.998428</td>\n",
       "    </tr>\n",
       "    <tr>\n",
       "      <th>4</th>\n",
       "      <td>16</td>\n",
       "      <td>0.998224</td>\n",
       "    </tr>\n",
       "  </tbody>\n",
       "</table>\n",
       "</div>"
      ],
      "text/plain": [
       "  index         2\n",
       "0     2  1.000000\n",
       "1    44  0.998962\n",
       "2    52  0.998867\n",
       "3    41  0.998428\n",
       "4    16  0.998224"
      ]
     },
     "execution_count": 32,
     "metadata": {},
     "output_type": "execute_result"
    }
   ],
   "source": [
    "recommendations.head(5)\n"
   ]
  },
  {
   "cell_type": "code",
   "execution_count": 33,
   "metadata": {},
   "outputs": [
    {
     "data": {
      "text/plain": [
       "'I_Love_You'"
      ]
     },
     "execution_count": 33,
     "metadata": {},
     "output_type": "execute_result"
    }
   ],
   "source": [
    "data[40]"
   ]
  },
  {
   "cell_type": "code",
   "execution_count": 63,
   "metadata": {},
   "outputs": [
    {
     "data": {
      "text/plain": [
       "'Kabira'"
      ]
     },
     "execution_count": 63,
     "metadata": {},
     "output_type": "execute_result"
    }
   ],
   "source": [
    "data[52]"
   ]
  },
  {
   "cell_type": "code",
   "execution_count": 64,
   "metadata": {},
   "outputs": [
    {
     "data": {
      "text/plain": [
       "'Ishq_Bulaava'"
      ]
     },
     "execution_count": 64,
     "metadata": {},
     "output_type": "execute_result"
    }
   ],
   "source": [
    "data[41]"
   ]
  },
  {
   "cell_type": "code",
   "execution_count": 65,
   "metadata": {},
   "outputs": [
    {
     "data": {
      "text/plain": [
       "'Bas_Ek_Baar'"
      ]
     },
     "execution_count": 65,
     "metadata": {},
     "output_type": "execute_result"
    }
   ],
   "source": [
    "data[16]"
   ]
  },
  {
   "cell_type": "code",
   "execution_count": 25,
   "metadata": {},
   "outputs": [
    {
     "data": {
      "text/plain": [
       "'Hai_Dil_Ye_Mera'"
      ]
     },
     "execution_count": 25,
     "metadata": {},
     "output_type": "execute_result"
    }
   ],
   "source": [
    "data[34]"
   ]
  },
  {
   "cell_type": "code",
   "execution_count": 68,
   "metadata": {},
   "outputs": [
    {
     "name": "stdout",
     "output_type": "stream",
     "text": [
      "Mast_Kalander\n"
     ]
    }
   ],
   "source": [
    "selected_song_id = '160'\n",
    "print(data[160])"
   ]
  },
  {
   "cell_type": "code",
   "execution_count": 69,
   "metadata": {
    "collapsed": true
   },
   "outputs": [],
   "source": [
    "recommendations = dists[str(selected_song_id)].sort_values(ascending=False).reset_index()"
   ]
  },
  {
   "cell_type": "code",
   "execution_count": 70,
   "metadata": {},
   "outputs": [
    {
     "data": {
      "text/html": [
       "<div>\n",
       "<style>\n",
       "    .dataframe thead tr:only-child th {\n",
       "        text-align: right;\n",
       "    }\n",
       "\n",
       "    .dataframe thead th {\n",
       "        text-align: left;\n",
       "    }\n",
       "\n",
       "    .dataframe tbody tr th {\n",
       "        vertical-align: top;\n",
       "    }\n",
       "</style>\n",
       "<table border=\"1\" class=\"dataframe\">\n",
       "  <thead>\n",
       "    <tr style=\"text-align: right;\">\n",
       "      <th></th>\n",
       "      <th>index</th>\n",
       "      <th>160</th>\n",
       "    </tr>\n",
       "  </thead>\n",
       "  <tbody>\n",
       "    <tr>\n",
       "      <th>0</th>\n",
       "      <td>160</td>\n",
       "      <td>1.000000</td>\n",
       "    </tr>\n",
       "    <tr>\n",
       "      <th>1</th>\n",
       "      <td>103</td>\n",
       "      <td>0.983388</td>\n",
       "    </tr>\n",
       "    <tr>\n",
       "      <th>2</th>\n",
       "      <td>173</td>\n",
       "      <td>0.982854</td>\n",
       "    </tr>\n",
       "    <tr>\n",
       "      <th>3</th>\n",
       "      <td>158</td>\n",
       "      <td>0.976759</td>\n",
       "    </tr>\n",
       "    <tr>\n",
       "      <th>4</th>\n",
       "      <td>131</td>\n",
       "      <td>0.976663</td>\n",
       "    </tr>\n",
       "    <tr>\n",
       "      <th>5</th>\n",
       "      <td>114</td>\n",
       "      <td>0.954993</td>\n",
       "    </tr>\n",
       "    <tr>\n",
       "      <th>6</th>\n",
       "      <td>133</td>\n",
       "      <td>0.954651</td>\n",
       "    </tr>\n",
       "    <tr>\n",
       "      <th>7</th>\n",
       "      <td>140</td>\n",
       "      <td>0.937386</td>\n",
       "    </tr>\n",
       "    <tr>\n",
       "      <th>8</th>\n",
       "      <td>129</td>\n",
       "      <td>0.929839</td>\n",
       "    </tr>\n",
       "    <tr>\n",
       "      <th>9</th>\n",
       "      <td>110</td>\n",
       "      <td>0.921463</td>\n",
       "    </tr>\n",
       "  </tbody>\n",
       "</table>\n",
       "</div>"
      ],
      "text/plain": [
       "  index       160\n",
       "0   160  1.000000\n",
       "1   103  0.983388\n",
       "2   173  0.982854\n",
       "3   158  0.976759\n",
       "4   131  0.976663\n",
       "5   114  0.954993\n",
       "6   133  0.954651\n",
       "7   140  0.937386\n",
       "8   129  0.929839\n",
       "9   110  0.921463"
      ]
     },
     "execution_count": 70,
     "metadata": {},
     "output_type": "execute_result"
    }
   ],
   "source": [
    "recommendations.head(10)"
   ]
  },
  {
   "cell_type": "code",
   "execution_count": 75,
   "metadata": {},
   "outputs": [
    {
     "data": {
      "text/plain": [
       "'Angreji_Beat'"
      ]
     },
     "execution_count": 75,
     "metadata": {},
     "output_type": "execute_result"
    }
   ],
   "source": [
    "data[110]"
   ]
  },
  {
   "cell_type": "code",
   "execution_count": 30,
   "metadata": {},
   "outputs": [
    {
     "data": {
      "text/plain": [
       "'Party_All_Night'"
      ]
     },
     "execution_count": 30,
     "metadata": {},
     "output_type": "execute_result"
    }
   ],
   "source": [
    "data[173]"
   ]
  },
  {
   "cell_type": "code",
   "execution_count": 31,
   "metadata": {},
   "outputs": [
    {
     "data": {
      "text/plain": [
       "'Lover_Boy'"
      ]
     },
     "execution_count": 31,
     "metadata": {},
     "output_type": "execute_result"
    }
   ],
   "source": [
    "data[158]"
   ]
  },
  {
   "cell_type": "code",
   "execution_count": 32,
   "metadata": {},
   "outputs": [
    {
     "data": {
      "text/plain": [
       "'Dhinka_Chika-Remix'"
      ]
     },
     "execution_count": 32,
     "metadata": {},
     "output_type": "execute_result"
    }
   ],
   "source": [
    "data[131]"
   ]
  },
  {
   "cell_type": "code",
   "execution_count": null,
   "metadata": {
    "collapsed": true
   },
   "outputs": [],
   "source": []
  },
  {
   "cell_type": "code",
   "execution_count": null,
   "metadata": {
    "collapsed": true
   },
   "outputs": [],
   "source": []
  }
 ],
 "metadata": {
  "kernelspec": {
   "display_name": "Python 3",
   "language": "python",
   "name": "python3"
  },
  "language_info": {
   "codemirror_mode": {
    "name": "ipython",
    "version": 3
   },
   "file_extension": ".py",
   "mimetype": "text/x-python",
   "name": "python",
   "nbconvert_exporter": "python",
   "pygments_lexer": "ipython3",
   "version": "3.6.3"
  }
 },
 "nbformat": 4,
 "nbformat_minor": 2
}
